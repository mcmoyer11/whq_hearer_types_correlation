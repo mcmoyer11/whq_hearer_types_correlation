{
 "cells": [
  {
   "cell_type": "markdown",
   "metadata": {},
   "source": [
    "# Random processing\n",
    "things that are easier to do in python than in R"
   ]
  },
  {
   "cell_type": "code",
   "execution_count": 1,
   "metadata": {},
   "outputs": [],
   "source": [
    "import pandas as pd\n",
    "from pandas import DataFrame\n",
    "from sklearn.preprocessing import scale\n",
    "import numpy as np\n",
    "import seaborn as sns\n",
    "import matplotlib.pyplot as plt\n",
    "import matplotlib as mpl \n",
    "import os\n",
    "import csv"
   ]
  },
  {
   "cell_type": "markdown",
   "metadata": {},
   "source": [
    "## Processing Raw data from PC IbexFarm, after using the R csv reader\n",
    "Some of the columns are out of sync, so we have to line them up to see graphs and everything"
   ]
  },
  {
   "cell_type": "code",
   "execution_count": 42,
   "metadata": {},
   "outputs": [],
   "source": [
    "# This makes the display show more info\n",
    "pd.set_option('display.max_rows', None)\n",
    "pd.set_option('display.max_columns', None)"
   ]
  },
  {
   "cell_type": "code",
   "execution_count": 259,
   "metadata": {},
   "outputs": [],
   "source": [
    "bna = pd.read_csv(\"bna.csv\")\n",
    "bnama = pd.read_csv(\"bnama.csv\")\n",
    "bnams = pd.read_csv(\"bnams.csv\")\n",
    "\n",
    "bnb = pd.read_csv(\"bnb.csv\")\n",
    "bnbma = pd.read_csv(\"bnbma.csv\")\n",
    "bnbms = pd.read_csv(\"bnbms.csv\")\n",
    "\n",
    "cba = pd.read_csv(\"cba.csv\")\n",
    "cbama = pd.read_csv(\"cbama.csv\")\n",
    "cbams = pd.read_csv(\"cbams.csv\")\n",
    "\n",
    "cbb = pd.read_csv(\"cbb.csv\")\n",
    "cbbma = pd.read_csv(\"cbbma.csv\")\n",
    "cbbms = pd.read_csv(\"cbbms.csv\")\n",
    "\n",
    "q = pd.read_csv(\"qn.csv\")\n",
    "qma = pd.read_csv(\"qma.csv\")\n",
    "qms = pd.read_csv(\"qms.csv\")\n",
    "qms2 = pd.read_csv(\"qms2.csv\")"
   ]
  },
  {
   "cell_type": "code",
   "execution_count": null,
   "metadata": {},
   "outputs": [],
   "source": []
  },
  {
   "cell_type": "code",
   "execution_count": 260,
   "metadata": {},
   "outputs": [],
   "source": [
    "bna_test = bna.loc[bna.Type.isin([\"test\"])]\n",
    "bnama_test = bnama.loc[bnama.Type.isin([\"test\"])]\n",
    "bnams_test = bnams.loc[bnams.Type.isin([\"test\"])]\n",
    "\n",
    "bnb_test = bnb.loc[bnb.Type.isin([\"test\"])]\n",
    "bnbma_test = bnbma.loc[bnbma.Type.isin([\"test\"])]\n",
    "bnbms_test = bnbms.loc[bnbms.Type.isin([\"test\"])]\n",
    "\n",
    "cba_test = cba.loc[cba.Type.isin([\"test\"])]\n",
    "cbama_test = cbama.loc[cbama.Type.isin([\"test\"])]\n",
    "cbams_test = cbams.loc[cbams.Type.isin([\"test\"])]\n",
    "\n",
    "cbb_test = cbb.loc[cbb.Type.isin([\"test\"])]\n",
    "cbbma_test = cbbma.loc[cbbma.Type.isin([\"test\"])]\n",
    "cbbms_test = cbbms.loc[cbbms.Type.isin([\"test\"])]\n",
    "\n",
    "q_test = q.loc[q.Type.isin([\"trial\"])]\n",
    "qma_test = qma.loc[qma.Type.isin([\"trial\"])]\n",
    "qms_test = qms.loc[qms.Type.isin([\"trial\"])]\n",
    "qms2_test = qms2.loc[qms2.Type.isin([\"trial\"])]"
   ]
  },
  {
   "cell_type": "markdown",
   "metadata": {},
   "source": [
    "# Bott Noveck"
   ]
  },
  {
   "cell_type": "code",
   "execution_count": 186,
   "metadata": {},
   "outputs": [
    {
     "data": {
      "text/plain": [
       "Quantifier\n",
       "all     2484\n",
       "some    2484\n",
       "Name: Quantifier, dtype: int64"
      ]
     },
     "execution_count": 186,
     "metadata": {},
     "output_type": "execute_result"
    }
   ],
   "source": [
    "# First take a look at the differrent levels for one of the columns where the factor is recording wrong\n",
    "# we will use this as a way to diagnose what's happeneing on those trials\n",
    "# and separate them out\n",
    "bnb_test.groupby([\"Quantifier\"])[\"Quantifier\"].count()"
   ]
  },
  {
   "cell_type": "code",
   "execution_count": 173,
   "metadata": {},
   "outputs": [],
   "source": [
    "# subset the trials\n",
    "oops = bnb_test.loc[bnb_test.Quantifier.isin([\"Zoologists know that\",\"Zoologists say that\"])]"
   ]
  },
  {
   "cell_type": "code",
   "execution_count": 188,
   "metadata": {},
   "outputs": [],
   "source": [
    "# looks like i forgot to take out a practice trial\n",
    "# look at the IDS and you can tell it was a test run\n",
    "# need to remove 'sdzglsdflj'\n",
    "\n",
    "# oops.ID"
   ]
  },
  {
   "cell_type": "code",
   "execution_count": 187,
   "metadata": {},
   "outputs": [],
   "source": [
    "# oops"
   ]
  },
  {
   "cell_type": "code",
   "execution_count": 178,
   "metadata": {},
   "outputs": [],
   "source": [
    "# remove the errant case and re-save the data\n",
    "bnb_test = bnb_test[bnb_test.ID != 'sdzglsdflj']"
   ]
  },
  {
   "cell_type": "code",
   "execution_count": 180,
   "metadata": {},
   "outputs": [],
   "source": [
    "# bnb_test.groupby([\"ID\"])[\"ID\"].count()"
   ]
  },
  {
   "cell_type": "code",
   "execution_count": 189,
   "metadata": {},
   "outputs": [
    {
     "name": "stderr",
     "output_type": "stream",
     "text": [
      "/opt/anaconda3/lib/python3.7/site-packages/ipykernel_launcher.py:3: SettingWithCopyWarning: \n",
      "A value is trying to be set on a copy of a slice from a DataFrame.\n",
      "Try using .loc[row_indexer,col_indexer] = value instead\n",
      "\n",
      "See the caveats in the documentation: http://pandas.pydata.org/pandas-docs/stable/user_guide/indexing.html#returning-a-view-versus-a-copy\n",
      "  This is separate from the ipykernel package so we can avoid doing imports until\n",
      "/opt/anaconda3/lib/python3.7/site-packages/ipykernel_launcher.py:4: SettingWithCopyWarning: \n",
      "A value is trying to be set on a copy of a slice from a DataFrame.\n",
      "Try using .loc[row_indexer,col_indexer] = value instead\n",
      "\n",
      "See the caveats in the documentation: http://pandas.pydata.org/pandas-docs/stable/user_guide/indexing.html#returning-a-view-versus-a-copy\n",
      "  after removing the cwd from sys.path.\n",
      "/opt/anaconda3/lib/python3.7/site-packages/ipykernel_launcher.py:5: SettingWithCopyWarning: \n",
      "A value is trying to be set on a copy of a slice from a DataFrame.\n",
      "Try using .loc[row_indexer,col_indexer] = value instead\n",
      "\n",
      "See the caveats in the documentation: http://pandas.pydata.org/pandas-docs/stable/user_guide/indexing.html#returning-a-view-versus-a-copy\n",
      "  \"\"\"\n",
      "/opt/anaconda3/lib/python3.7/site-packages/ipykernel_launcher.py:6: SettingWithCopyWarning: \n",
      "A value is trying to be set on a copy of a slice from a DataFrame.\n",
      "Try using .loc[row_indexer,col_indexer] = value instead\n",
      "\n",
      "See the caveats in the documentation: http://pandas.pydata.org/pandas-docs/stable/user_guide/indexing.html#returning-a-view-versus-a-copy\n",
      "  \n",
      "/opt/anaconda3/lib/python3.7/site-packages/ipykernel_launcher.py:8: SettingWithCopyWarning: \n",
      "A value is trying to be set on a copy of a slice from a DataFrame.\n",
      "Try using .loc[row_indexer,col_indexer] = value instead\n",
      "\n",
      "See the caveats in the documentation: http://pandas.pydata.org/pandas-docs/stable/user_guide/indexing.html#returning-a-view-versus-a-copy\n",
      "  \n",
      "/opt/anaconda3/lib/python3.7/site-packages/ipykernel_launcher.py:9: SettingWithCopyWarning: \n",
      "A value is trying to be set on a copy of a slice from a DataFrame.\n",
      "Try using .loc[row_indexer,col_indexer] = value instead\n",
      "\n",
      "See the caveats in the documentation: http://pandas.pydata.org/pandas-docs/stable/user_guide/indexing.html#returning-a-view-versus-a-copy\n",
      "  if __name__ == '__main__':\n",
      "/opt/anaconda3/lib/python3.7/site-packages/ipykernel_launcher.py:10: SettingWithCopyWarning: \n",
      "A value is trying to be set on a copy of a slice from a DataFrame.\n",
      "Try using .loc[row_indexer,col_indexer] = value instead\n",
      "\n",
      "See the caveats in the documentation: http://pandas.pydata.org/pandas-docs/stable/user_guide/indexing.html#returning-a-view-versus-a-copy\n",
      "  # Remove the CWD from sys.path while we load stuff.\n",
      "/opt/anaconda3/lib/python3.7/site-packages/ipykernel_launcher.py:11: SettingWithCopyWarning: \n",
      "A value is trying to be set on a copy of a slice from a DataFrame.\n",
      "Try using .loc[row_indexer,col_indexer] = value instead\n",
      "\n",
      "See the caveats in the documentation: http://pandas.pydata.org/pandas-docs/stable/user_guide/indexing.html#returning-a-view-versus-a-copy\n",
      "  # This is added back by InteractiveShellApp.init_path()\n",
      "/opt/anaconda3/lib/python3.7/site-packages/ipykernel_launcher.py:12: SettingWithCopyWarning: \n",
      "A value is trying to be set on a copy of a slice from a DataFrame.\n",
      "Try using .loc[row_indexer,col_indexer] = value instead\n",
      "\n",
      "See the caveats in the documentation: http://pandas.pydata.org/pandas-docs/stable/user_guide/indexing.html#returning-a-view-versus-a-copy\n",
      "  if sys.path[0] == '':\n",
      "/opt/anaconda3/lib/python3.7/site-packages/ipykernel_launcher.py:13: SettingWithCopyWarning: \n",
      "A value is trying to be set on a copy of a slice from a DataFrame.\n",
      "Try using .loc[row_indexer,col_indexer] = value instead\n",
      "\n",
      "See the caveats in the documentation: http://pandas.pydata.org/pandas-docs/stable/user_guide/indexing.html#returning-a-view-versus-a-copy\n",
      "  del sys.path[0]\n"
     ]
    }
   ],
   "source": [
    "bnb_test[\"order\"] = \"2\"\n",
    "bnb_test[\"goal\"] = \"none\"\n",
    "bnbma_test[\"order\"] = \"2\"\n",
    "bnbma_test[\"goal\"] = \"ma\"\n",
    "bnbms_test[\"order\"] = \"2\"\n",
    "bnbms_test[\"goal\"] = \"ms\"\n",
    "\n",
    "bna_test[\"order\"] = \"1\"\n",
    "bna_test[\"goal\"] = \"none\"\n",
    "bnama_test[\"order\"] = \"1\"\n",
    "bnama_test[\"goal\"] = \"ma\"\n",
    "bnams_test[\"order\"] = \"1\"\n",
    "bnams_test[\"goal\"] = \"ms\""
   ]
  },
  {
   "cell_type": "code",
   "execution_count": 197,
   "metadata": {},
   "outputs": [],
   "source": [
    "bottnov = pd.concat([bnb_test,bnbma_test,bnbms_test,bna_test,bnama_test,bnams_test])"
   ]
  },
  {
   "cell_type": "code",
   "execution_count": 198,
   "metadata": {},
   "outputs": [],
   "source": [
    "bottnov.to_csv(\"bottnov.csv\", header=True)"
   ]
  },
  {
   "cell_type": "code",
   "execution_count": null,
   "metadata": {},
   "outputs": [],
   "source": []
  },
  {
   "cell_type": "code",
   "execution_count": null,
   "metadata": {},
   "outputs": [],
   "source": []
  },
  {
   "cell_type": "code",
   "execution_count": null,
   "metadata": {},
   "outputs": [],
   "source": []
  },
  {
   "cell_type": "markdown",
   "metadata": {},
   "source": [
    "# Same process with the CB files"
   ]
  },
  {
   "cell_type": "markdown",
   "metadata": {},
   "source": [
    "Files that are off:\n",
    "cba_test "
   ]
  },
  {
   "cell_type": "code",
   "execution_count": 207,
   "metadata": {},
   "outputs": [
    {
     "data": {
      "text/plain": [
       "SentNumber\n",
       "1              276\n",
       "2              276\n",
       "3              276\n",
       "4              276\n",
       "5              276\n",
       "6              276\n",
       "7              276\n",
       "8              276\n",
       "9              276\n",
       "Matching        48\n",
       "Mismatching     60\n",
       "Name: SentNumber, dtype: int64"
      ]
     },
     "execution_count": 207,
     "metadata": {},
     "output_type": "execute_result"
    }
   ],
   "source": [
    "cba_test.groupby([\"SentNumber\"])[\"SentNumber\"].count()"
   ]
  },
  {
   "cell_type": "code",
   "execution_count": 208,
   "metadata": {},
   "outputs": [],
   "source": [
    "ops = cba_test.loc[cba_test.SentNumber.isin([\"Matching\",\"Mismatching\"])]"
   ]
  },
  {
   "cell_type": "code",
   "execution_count": 209,
   "metadata": {},
   "outputs": [],
   "source": [
    "cba_test = cba_test[cba_test.SentNumber != \"Mismatching\" ]\n",
    "cba_test = cba_test[cba_test.SentNumber != \"Matching\" ]"
   ]
  },
  {
   "cell_type": "code",
   "execution_count": 210,
   "metadata": {},
   "outputs": [
    {
     "data": {
      "text/plain": [
       "SentNumber\n",
       "1    276\n",
       "2    276\n",
       "3    276\n",
       "4    276\n",
       "5    276\n",
       "6    276\n",
       "7    276\n",
       "8    276\n",
       "9    276\n",
       "Name: SentNumber, dtype: int64"
      ]
     },
     "execution_count": 210,
     "metadata": {},
     "output_type": "execute_result"
    }
   ],
   "source": [
    "cba_test.groupby([\"SentNumber\"])[\"SentNumber\"].count()"
   ]
  },
  {
   "cell_type": "code",
   "execution_count": null,
   "metadata": {},
   "outputs": [],
   "source": []
  },
  {
   "cell_type": "code",
   "execution_count": 215,
   "metadata": {},
   "outputs": [
    {
     "data": {
      "text/html": [
       "<div>\n",
       "<style scoped>\n",
       "    .dataframe tbody tr th:only-of-type {\n",
       "        vertical-align: middle;\n",
       "    }\n",
       "\n",
       "    .dataframe tbody tr th {\n",
       "        vertical-align: top;\n",
       "    }\n",
       "\n",
       "    .dataframe thead th {\n",
       "        text-align: right;\n",
       "    }\n",
       "</style>\n",
       "<table border=\"1\" class=\"dataframe\">\n",
       "  <thead>\n",
       "    <tr style=\"text-align: right;\">\n",
       "      <th></th>\n",
       "      <th>Unnamed: 0</th>\n",
       "      <th>Time.results.were.received</th>\n",
       "      <th>MD5.hash.of.participant.s.IP.address</th>\n",
       "      <th>Controller.name</th>\n",
       "      <th>Item.number</th>\n",
       "      <th>Element.number</th>\n",
       "      <th>Type</th>\n",
       "      <th>Group.Ibex</th>\n",
       "      <th>PennElementType</th>\n",
       "      <th>PennElementName</th>\n",
       "      <th>Parameter</th>\n",
       "      <th>Value</th>\n",
       "      <th>EventTime</th>\n",
       "      <th>ID</th>\n",
       "      <th>Study</th>\n",
       "      <th>SentNumber</th>\n",
       "      <th>WhichCategory</th>\n",
       "      <th>Matrix</th>\n",
       "      <th>Subject</th>\n",
       "      <th>Predicate</th>\n",
       "      <th>SentType</th>\n",
       "      <th>Negation</th>\n",
       "      <th>CompTruth</th>\n",
       "      <th>SubStat</th>\n",
       "      <th>Token</th>\n",
       "      <th>MatchingCategory</th>\n",
       "      <th>MismatchingCategory</th>\n",
       "      <th>Group</th>\n",
       "      <th>Comments</th>\n",
       "      <th>study</th>\n",
       "      <th>order</th>\n",
       "      <th>goal</th>\n",
       "    </tr>\n",
       "  </thead>\n",
       "  <tbody>\n",
       "  </tbody>\n",
       "</table>\n",
       "</div>"
      ],
      "text/plain": [
       "Empty DataFrame\n",
       "Columns: [Unnamed: 0, Time.results.were.received, MD5.hash.of.participant.s.IP.address, Controller.name, Item.number, Element.number, Type, Group.Ibex, PennElementType, PennElementName, Parameter, Value, EventTime, ID, Study, SentNumber, WhichCategory, Matrix, Subject, Predicate, SentType, Negation, CompTruth, SubStat, Token, MatchingCategory, MismatchingCategory, Group, Comments, study, order, goal]\n",
       "Index: []"
      ]
     },
     "execution_count": 215,
     "metadata": {},
     "output_type": "execute_result"
    }
   ],
   "source": [
    "cba_test.loc[cba_test.ID == \"morgan\"]"
   ]
  },
  {
   "cell_type": "code",
   "execution_count": 216,
   "metadata": {},
   "outputs": [
    {
     "name": "stderr",
     "output_type": "stream",
     "text": [
      "/opt/anaconda3/lib/python3.7/site-packages/ipykernel_launcher.py:3: SettingWithCopyWarning: \n",
      "A value is trying to be set on a copy of a slice from a DataFrame.\n",
      "Try using .loc[row_indexer,col_indexer] = value instead\n",
      "\n",
      "See the caveats in the documentation: http://pandas.pydata.org/pandas-docs/stable/user_guide/indexing.html#returning-a-view-versus-a-copy\n",
      "  This is separate from the ipykernel package so we can avoid doing imports until\n",
      "/opt/anaconda3/lib/python3.7/site-packages/ipykernel_launcher.py:4: SettingWithCopyWarning: \n",
      "A value is trying to be set on a copy of a slice from a DataFrame.\n",
      "Try using .loc[row_indexer,col_indexer] = value instead\n",
      "\n",
      "See the caveats in the documentation: http://pandas.pydata.org/pandas-docs/stable/user_guide/indexing.html#returning-a-view-versus-a-copy\n",
      "  after removing the cwd from sys.path.\n",
      "/opt/anaconda3/lib/python3.7/site-packages/ipykernel_launcher.py:5: SettingWithCopyWarning: \n",
      "A value is trying to be set on a copy of a slice from a DataFrame.\n",
      "Try using .loc[row_indexer,col_indexer] = value instead\n",
      "\n",
      "See the caveats in the documentation: http://pandas.pydata.org/pandas-docs/stable/user_guide/indexing.html#returning-a-view-versus-a-copy\n",
      "  \"\"\"\n",
      "/opt/anaconda3/lib/python3.7/site-packages/ipykernel_launcher.py:6: SettingWithCopyWarning: \n",
      "A value is trying to be set on a copy of a slice from a DataFrame.\n",
      "Try using .loc[row_indexer,col_indexer] = value instead\n",
      "\n",
      "See the caveats in the documentation: http://pandas.pydata.org/pandas-docs/stable/user_guide/indexing.html#returning-a-view-versus-a-copy\n",
      "  \n",
      "/opt/anaconda3/lib/python3.7/site-packages/ipykernel_launcher.py:8: SettingWithCopyWarning: \n",
      "A value is trying to be set on a copy of a slice from a DataFrame.\n",
      "Try using .loc[row_indexer,col_indexer] = value instead\n",
      "\n",
      "See the caveats in the documentation: http://pandas.pydata.org/pandas-docs/stable/user_guide/indexing.html#returning-a-view-versus-a-copy\n",
      "  \n",
      "/opt/anaconda3/lib/python3.7/site-packages/ipykernel_launcher.py:9: SettingWithCopyWarning: \n",
      "A value is trying to be set on a copy of a slice from a DataFrame.\n",
      "Try using .loc[row_indexer,col_indexer] = value instead\n",
      "\n",
      "See the caveats in the documentation: http://pandas.pydata.org/pandas-docs/stable/user_guide/indexing.html#returning-a-view-versus-a-copy\n",
      "  if __name__ == '__main__':\n",
      "/opt/anaconda3/lib/python3.7/site-packages/ipykernel_launcher.py:10: SettingWithCopyWarning: \n",
      "A value is trying to be set on a copy of a slice from a DataFrame.\n",
      "Try using .loc[row_indexer,col_indexer] = value instead\n",
      "\n",
      "See the caveats in the documentation: http://pandas.pydata.org/pandas-docs/stable/user_guide/indexing.html#returning-a-view-versus-a-copy\n",
      "  # Remove the CWD from sys.path while we load stuff.\n",
      "/opt/anaconda3/lib/python3.7/site-packages/ipykernel_launcher.py:11: SettingWithCopyWarning: \n",
      "A value is trying to be set on a copy of a slice from a DataFrame.\n",
      "Try using .loc[row_indexer,col_indexer] = value instead\n",
      "\n",
      "See the caveats in the documentation: http://pandas.pydata.org/pandas-docs/stable/user_guide/indexing.html#returning-a-view-versus-a-copy\n",
      "  # This is added back by InteractiveShellApp.init_path()\n",
      "/opt/anaconda3/lib/python3.7/site-packages/ipykernel_launcher.py:12: SettingWithCopyWarning: \n",
      "A value is trying to be set on a copy of a slice from a DataFrame.\n",
      "Try using .loc[row_indexer,col_indexer] = value instead\n",
      "\n",
      "See the caveats in the documentation: http://pandas.pydata.org/pandas-docs/stable/user_guide/indexing.html#returning-a-view-versus-a-copy\n",
      "  if sys.path[0] == '':\n",
      "/opt/anaconda3/lib/python3.7/site-packages/ipykernel_launcher.py:13: SettingWithCopyWarning: \n",
      "A value is trying to be set on a copy of a slice from a DataFrame.\n",
      "Try using .loc[row_indexer,col_indexer] = value instead\n",
      "\n",
      "See the caveats in the documentation: http://pandas.pydata.org/pandas-docs/stable/user_guide/indexing.html#returning-a-view-versus-a-copy\n",
      "  del sys.path[0]\n"
     ]
    }
   ],
   "source": [
    "cba_test[\"order\"] = \"2\"\n",
    "cba_test[\"goal\"] = \"none\"\n",
    "cbama_test[\"order\"] = \"2\"\n",
    "cbama_test[\"goal\"] = \"ma\"\n",
    "cbams_test[\"order\"] = \"2\"\n",
    "cbams_test[\"goal\"] = \"ms\"\n",
    "\n",
    "bnb_test[\"order\"] = \"1\"\n",
    "bnb_test[\"goal\"] = \"none\"\n",
    "bnbma_test[\"order\"] = \"1\"\n",
    "bnbma_test[\"goal\"] = \"ma\"\n",
    "bnbms_test[\"order\"] = \"1\"\n",
    "bnbms_test[\"goal\"] = \"ms\""
   ]
  },
  {
   "cell_type": "code",
   "execution_count": 217,
   "metadata": {},
   "outputs": [
    {
     "name": "stderr",
     "output_type": "stream",
     "text": [
      "/opt/anaconda3/lib/python3.7/site-packages/ipykernel_launcher.py:1: FutureWarning: Sorting because non-concatenation axis is not aligned. A future version\n",
      "of pandas will change to not sort by default.\n",
      "\n",
      "To accept the future behavior, pass 'sort=False'.\n",
      "\n",
      "To retain the current behavior and silence the warning, pass 'sort=True'.\n",
      "\n",
      "  \"\"\"Entry point for launching an IPython kernel.\n"
     ]
    }
   ],
   "source": [
    "chembott = pd.concat([cba_test,cbama_test,cbams_test,cbb_test,cbbma_test,cbbms_test])"
   ]
  },
  {
   "cell_type": "code",
   "execution_count": 247,
   "metadata": {},
   "outputs": [
    {
     "name": "stderr",
     "output_type": "stream",
     "text": [
      "/opt/anaconda3/lib/python3.7/site-packages/ipykernel_launcher.py:2: SettingWithCopyWarning: \n",
      "A value is trying to be set on a copy of a slice from a DataFrame.\n",
      "Try using .loc[row_indexer,col_indexer] = value instead\n",
      "\n",
      "See the caveats in the documentation: http://pandas.pydata.org/pandas-docs/stable/user_guide/indexing.html#returning-a-view-versus-a-copy\n",
      "  \n",
      "/opt/anaconda3/lib/python3.7/site-packages/ipykernel_launcher.py:4: SettingWithCopyWarning: \n",
      "A value is trying to be set on a copy of a slice from a DataFrame.\n",
      "Try using .loc[row_indexer,col_indexer] = value instead\n",
      "\n",
      "See the caveats in the documentation: http://pandas.pydata.org/pandas-docs/stable/user_guide/indexing.html#returning-a-view-versus-a-copy\n",
      "  after removing the cwd from sys.path.\n"
     ]
    }
   ],
   "source": [
    "say = chembott.loc[chembott.Matrix.str.contains(\"say\", na=False)]\n",
    "say[\"Verb\"] = \"say\"\n",
    "know = chembott.loc[chembott.Matrix.str.contains(\"know\", na=False)]\n",
    "know[\"Verb\"] = \"know\""
   ]
  },
  {
   "cell_type": "code",
   "execution_count": 253,
   "metadata": {},
   "outputs": [],
   "source": [
    "say_is = say.index.values.tolist()\n",
    "know_is = know.index.values.tolist()"
   ]
  },
  {
   "cell_type": "code",
   "execution_count": 258,
   "metadata": {},
   "outputs": [],
   "source": [
    "chembott.to_csv(\"chembott.csv\",header=True)"
   ]
  },
  {
   "cell_type": "code",
   "execution_count": null,
   "metadata": {},
   "outputs": [],
   "source": []
  },
  {
   "cell_type": "code",
   "execution_count": null,
   "metadata": {},
   "outputs": [],
   "source": []
  },
  {
   "cell_type": "code",
   "execution_count": null,
   "metadata": {},
   "outputs": [],
   "source": []
  },
  {
   "cell_type": "code",
   "execution_count": 243,
   "metadata": {},
   "outputs": [],
   "source": [
    "# chembott.ID.unique()"
   ]
  },
  {
   "cell_type": "code",
   "execution_count": 244,
   "metadata": {},
   "outputs": [],
   "source": [
    "# cba_test.iloc[0:37]"
   ]
  },
  {
   "cell_type": "code",
   "execution_count": null,
   "metadata": {},
   "outputs": [],
   "source": [
    "# Remove all the bad ones from cba_test (the first 0:37)\n",
    "# [34, 38, 42, 46, 50, 54, 58, 62, 66, 70, 74, 78, 82, 86, 90, 94, 98, 102, 174, 178, 182, 186, 190, 194, 198, 202, 206, 210, 214, 218, 222, 226, 230, 234, 238, 242, 314]\n",
    "\n",
    "# cba_test = cba_test.drop([34, 38, 42, 46, 50, 54, 58, 62, 66, 70, 74, 78, 82, 86, 90, 94, 98, 102, 174, 178, 182, 186, 190, 194, 198, 202, 206, 210, 214, 218, 222, 226, 230, 234, 238, 242, 314])\n",
    "    \n",
    "    "
   ]
  },
  {
   "cell_type": "markdown",
   "metadata": {},
   "source": [
    "# Questions"
   ]
  },
  {
   "cell_type": "code",
   "execution_count": 265,
   "metadata": {},
   "outputs": [
    {
     "data": {
      "text/plain": [
       "WhichQuestion\n",
       "MA         72\n",
       "MF         72\n",
       "MO         72\n",
       "MS         72\n",
       "Mod      4464\n",
       "NoMod    4464\n",
       "Name: WhichQuestion, dtype: int64"
      ]
     },
     "execution_count": 265,
     "metadata": {},
     "output_type": "execute_result"
    }
   ],
   "source": [
    "# The ones with troubles:\n",
    "# q_test\n",
    "q_test.groupby([\"WhichQuestion\"])[\"WhichQuestion\"].count()"
   ]
  },
  {
   "cell_type": "code",
   "execution_count": 242,
   "metadata": {},
   "outputs": [],
   "source": [
    "# q_test.groupby([\"ID\"])[\"ID\"].count()"
   ]
  },
  {
   "cell_type": "code",
   "execution_count": 266,
   "metadata": {},
   "outputs": [
    {
     "data": {
      "text/plain": [
       "ID\n",
       "bsdfgl;sdjfglkj    96\n",
       "kjkljh             96\n",
       "sdfsdf             96\n",
       "Name: ID, dtype: int64"
      ]
     },
     "execution_count": 266,
     "metadata": {},
     "output_type": "execute_result"
    }
   ],
   "source": [
    "# Double check that the errors are for test trials by \n",
    "# subsetting the data\n",
    "q_test.loc[q_test.WhichQuestion.isin([\"MS\",\"MA\",\"MO\",\"MF\"])].groupby([\"ID\"])[\"ID\"].count()"
   ]
  },
  {
   "cell_type": "code",
   "execution_count": null,
   "metadata": {},
   "outputs": [],
   "source": []
  },
  {
   "cell_type": "code",
   "execution_count": 267,
   "metadata": {},
   "outputs": [],
   "source": [
    "# remove those from the test file\n",
    "q_test = q_test[q_test.WhichQuestion != \"MS\"]\n",
    "q_test = q_test[q_test.WhichQuestion != \"MA\"]\n",
    "q_test = q_test[q_test.WhichQuestion != \"MO\"]\n",
    "q_test = q_test[q_test.WhichQuestion != \"MF\"]"
   ]
  },
  {
   "cell_type": "code",
   "execution_count": 268,
   "metadata": {
    "collapsed": true
   },
   "outputs": [
    {
     "data": {
      "text/plain": [
       "ID\n",
       " 19663              96\n",
       "16516               96\n",
       "16558               96\n",
       "16657               96\n",
       "16753               96\n",
       "17128               96\n",
       "17134               96\n",
       "17233               96\n",
       "17236               96\n",
       "17248               96\n",
       "17263               96\n",
       "17266               96\n",
       "173004007           96\n",
       "17350               96\n",
       "17356               96\n",
       "17374               96\n",
       "17380               96\n",
       "17404               96\n",
       "17410               96\n",
       "17662               96\n",
       "17797               96\n",
       "178004888           96\n",
       "18151               96\n",
       "18166               96\n",
       "18169               96\n",
       "18184               96\n",
       "18190               96\n",
       "18256               96\n",
       "18259               96\n",
       "18265               96\n",
       "18271               96\n",
       "18274               96\n",
       "182777              96\n",
       "18283               96\n",
       "18307               96\n",
       "18343               96\n",
       "18352               96\n",
       "18379               96\n",
       "18445               96\n",
       "18481               96\n",
       "18493               96\n",
       "18619               96\n",
       "18628               96\n",
       "18649               96\n",
       "18661               96\n",
       "18664               96\n",
       "18670              192\n",
       "18706               96\n",
       "18730               96\n",
       "18736               96\n",
       "18763               96\n",
       "18766               96\n",
       "18781               96\n",
       "18808               96\n",
       "18874               96\n",
       "18922               96\n",
       "19087               96\n",
       "19252               96\n",
       "19288               96\n",
       "19345               96\n",
       "19441               96\n",
       "19474               96\n",
       "19489              192\n",
       "19492               96\n",
       "19537               96\n",
       "19573               96\n",
       "19642               96\n",
       "19654               96\n",
       "19675               96\n",
       "19678               96\n",
       "19687               96\n",
       "19693               96\n",
       "19699               96\n",
       "19702               96\n",
       "19705               96\n",
       "19723              192\n",
       "19735               96\n",
       "19750               96\n",
       "19783               96\n",
       "19786               96\n",
       "19792               96\n",
       "19795               96\n",
       "19807               96\n",
       "19813               96\n",
       "19816               96\n",
       "19819               96\n",
       "19822               96\n",
       "199001549           96\n",
       "Gabriela Cuevas     96\n",
       "vm407               96\n",
       "Name: ID, dtype: int64"
      ]
     },
     "execution_count": 268,
     "metadata": {},
     "output_type": "execute_result"
    }
   ],
   "source": [
    "q_test.groupby([\"ID\"])[\"ID\"].count()\n",
    "\n",
    "# why do some of the participants have difference numbers?\n",
    "# 18670, 19489, 19723\n",
    "# These participants took the study twice. they will be removed during processing in R"
   ]
  },
  {
   "cell_type": "code",
   "execution_count": 269,
   "metadata": {},
   "outputs": [],
   "source": [
    "quest = pd.concat([q_test,qma_test,qms_test,qms2_test])"
   ]
  },
  {
   "cell_type": "code",
   "execution_count": 270,
   "metadata": {},
   "outputs": [],
   "source": [
    "quest.to_csv(\"quest.csv\",header=True)"
   ]
  },
  {
   "cell_type": "code",
   "execution_count": null,
   "metadata": {},
   "outputs": [],
   "source": []
  },
  {
   "cell_type": "code",
   "execution_count": null,
   "metadata": {},
   "outputs": [],
   "source": []
  },
  {
   "cell_type": "code",
   "execution_count": null,
   "metadata": {},
   "outputs": [],
   "source": []
  },
  {
   "cell_type": "code",
   "execution_count": null,
   "metadata": {},
   "outputs": [],
   "source": []
  },
  {
   "cell_type": "markdown",
   "metadata": {},
   "source": [
    "# Now add all the order information\n",
    "\n",
    "This wasn't working right..."
   ]
  },
  {
   "cell_type": "markdown",
   "metadata": {},
   "source": [
    "1. first cbama idexes should be keys to assign order 2 to q_ma"
   ]
  },
  {
   "cell_type": "code",
   "execution_count": 240,
   "metadata": {},
   "outputs": [],
   "source": [
    "# easiest get the values from the ID column and convert to list\n",
    "# convert to np.array() inorder to get unique values\n",
    "# convert back to list form\n",
    "cbama_ids = np.unique(np.array(cbama.ID.values.tolist())).tolist()"
   ]
  },
  {
   "cell_type": "code",
   "execution_count": 259,
   "metadata": {},
   "outputs": [],
   "source": [
    "# cbama_ids = cbama_ids.del('English', 'eng', 'english','nan')\n",
    "del cbama_ids[-4:]"
   ]
  },
  {
   "cell_type": "code",
   "execution_count": 273,
   "metadata": {},
   "outputs": [],
   "source": [
    "# subset \n",
    "o = qma_test.loc[qma_test.ID.isin(cbama_ids)]\n",
    "# get index values\n",
    "qma_test_o2_indexes = o.index.values.tolist()"
   ]
  },
  {
   "cell_type": "code",
   "execution_count": 275,
   "metadata": {
    "scrolled": true
   },
   "outputs": [
    {
     "name": "stderr",
     "output_type": "stream",
     "text": [
      "/opt/anaconda3/lib/python3.7/site-packages/pandas/core/indexing.py:494: SettingWithCopyWarning: \n",
      "A value is trying to be set on a copy of a slice from a DataFrame.\n",
      "Try using .loc[row_indexer,col_indexer] = value instead\n",
      "\n",
      "See the caveats in the documentation: http://pandas.pydata.org/pandas-docs/stable/user_guide/indexing.html#returning-a-view-versus-a-copy\n",
      "  self.obj[item] = s\n"
     ]
    }
   ],
   "source": [
    "qma_test.at[qma_test_o2_indexes, 'order'] = '2'"
   ]
  },
  {
   "cell_type": "markdown",
   "metadata": {},
   "source": [
    "2. cbbma idexes should be keys to assign order 1 to q_ma"
   ]
  },
  {
   "cell_type": "code",
   "execution_count": 287,
   "metadata": {},
   "outputs": [],
   "source": [
    "# easiest get the values from the ID column and convert to list\n",
    "# convert to np.array() inorder to get unique values\n",
    "# convert back to list form\n",
    "cbbma_ids = np.unique(np.array(cbbma.ID.values.tolist())).tolist()"
   ]
  },
  {
   "cell_type": "code",
   "execution_count": 288,
   "metadata": {},
   "outputs": [],
   "source": [
    "# cbama_ids = cbama_ids.del('English', 'eng', 'english','nan')\n",
    "del cbbma_ids[-1:]"
   ]
  },
  {
   "cell_type": "code",
   "execution_count": 297,
   "metadata": {},
   "outputs": [],
   "source": [
    "# subset \n",
    "o = qma_test.loc[qma_test.ID.isin(cbbma_ids)]\n",
    "# get index values\n",
    "qma_test_o1_indexes = o.index.values.tolist()"
   ]
  },
  {
   "cell_type": "code",
   "execution_count": 299,
   "metadata": {
    "scrolled": true
   },
   "outputs": [],
   "source": [
    "qma_test.at[qma_test_o1_indexes, 'order'] = '1'"
   ]
  },
  {
   "cell_type": "markdown",
   "metadata": {},
   "source": [
    "3. cba idexes should be keys to assign order 2 to q"
   ]
  },
  {
   "cell_type": "code",
   "execution_count": 292,
   "metadata": {},
   "outputs": [],
   "source": [
    "# easiest get the values from the ID column and convert to list\n",
    "# convert to np.array() inorder to get unique values\n",
    "# convert back to list form\n",
    "cba_ids = np.unique(np.array(cba.ID.values.tolist())).tolist()"
   ]
  },
  {
   "cell_type": "code",
   "execution_count": null,
   "metadata": {},
   "outputs": [],
   "source": [
    "# this needs to be fixed"
   ]
  },
  {
   "cell_type": "code",
   "execution_count": 294,
   "metadata": {},
   "outputs": [],
   "source": [
    "# 199001549\n",
    "del cba_ids[-13:]"
   ]
  },
  {
   "cell_type": "code",
   "execution_count": 300,
   "metadata": {},
   "outputs": [],
   "source": [
    "# subset \n",
    "o = q_test.loc[q_test.ID.isin(cba_ids)]\n",
    "# get index values\n",
    "q_test_o2_indexes = o.index.values.tolist()"
   ]
  },
  {
   "cell_type": "code",
   "execution_count": 301,
   "metadata": {
    "scrolled": true
   },
   "outputs": [],
   "source": [
    "q_test.at[q_test_o2_indexes, 'order'] = '2'"
   ]
  },
  {
   "cell_type": "markdown",
   "metadata": {},
   "source": [
    "4. cbb idexes should be keys to assign order 1 to q"
   ]
  },
  {
   "cell_type": "code",
   "execution_count": 306,
   "metadata": {},
   "outputs": [],
   "source": [
    "# easiest get the values from the ID column and convert to list\n",
    "# convert to np.array() inorder to get unique values\n",
    "# convert back to list form\n",
    "cbb_ids = np.unique(np.array(cbb.ID.values.tolist())).tolist()"
   ]
  },
  {
   "cell_type": "code",
   "execution_count": 308,
   "metadata": {},
   "outputs": [],
   "source": [
    "# last:19822\n",
    "del cbb_ids[-2:]"
   ]
  },
  {
   "cell_type": "code",
   "execution_count": 310,
   "metadata": {},
   "outputs": [],
   "source": [
    "# subset \n",
    "o = q_test.loc[q_test.ID.isin(cbb_ids)]\n",
    "# get index values\n",
    "q_test_o1_indexes = o.index.values.tolist()"
   ]
  },
  {
   "cell_type": "code",
   "execution_count": 311,
   "metadata": {
    "scrolled": true
   },
   "outputs": [],
   "source": [
    "q_test.at[q_test_o1_indexes, 'order'] = '1'"
   ]
  },
  {
   "cell_type": "code",
   "execution_count": 349,
   "metadata": {},
   "outputs": [],
   "source": [
    "# quest = pd.concat([q_test,qma_test,qms_test,qms2_test])\n",
    "# quest.to_csv(\"quest.csv\", header=True)"
   ]
  },
  {
   "cell_type": "code",
   "execution_count": null,
   "metadata": {},
   "outputs": [],
   "source": []
  },
  {
   "cell_type": "code",
   "execution_count": null,
   "metadata": {},
   "outputs": [],
   "source": []
  },
  {
   "cell_type": "code",
   "execution_count": 468,
   "metadata": {},
   "outputs": [
    {
     "name": "stderr",
     "output_type": "stream",
     "text": [
      "/opt/anaconda3/lib/python3.7/site-packages/ipykernel_launcher.py:2: SettingWithCopyWarning: \n",
      "A value is trying to be set on a copy of a slice from a DataFrame.\n",
      "Try using .loc[row_indexer,col_indexer] = value instead\n",
      "\n",
      "See the caveats in the documentation: http://pandas.pydata.org/pandas-docs/stable/user_guide/indexing.html#returning-a-view-versus-a-copy\n",
      "  \n",
      "/opt/anaconda3/lib/python3.7/site-packages/ipykernel_launcher.py:4: SettingWithCopyWarning: \n",
      "A value is trying to be set on a copy of a slice from a DataFrame.\n",
      "Try using .loc[row_indexer,col_indexer] = value instead\n",
      "\n",
      "See the caveats in the documentation: http://pandas.pydata.org/pandas-docs/stable/user_guide/indexing.html#returning-a-view-versus-a-copy\n",
      "  after removing the cwd from sys.path.\n"
     ]
    }
   ],
   "source": [
    "say = chebbot.loc[chebbot.Matrix.str.contains(\"say\", na=False)]\n",
    "say[\"Verb\"] = \"say\"\n",
    "know = chebbot.loc[chebbot.Matrix.str.contains(\"know\", na=False)]\n",
    "know[\"Verb\"] = \"know\""
   ]
  },
  {
   "cell_type": "code",
   "execution_count": 472,
   "metadata": {},
   "outputs": [],
   "source": [
    "chebbot2 = pd.concat([know,say])"
   ]
  },
  {
   "cell_type": "code",
   "execution_count": 473,
   "metadata": {},
   "outputs": [
    {
     "data": {
      "text/plain": [
       "Verb  SentType\n",
       "know  T1          558\n",
       "      T2          558\n",
       "      T3          558\n",
       "      T4          558\n",
       "      T5          558\n",
       "      T6          558\n",
       "say   T7          558\n",
       "      T8          558\n",
       "      T9          558\n",
       "Name: Verb, dtype: int64"
      ]
     },
     "execution_count": 473,
     "metadata": {},
     "output_type": "execute_result"
    }
   ],
   "source": [
    "chebbot2.groupby([\"Verb\",\"SentType\"])[\"Verb\"].count()"
   ]
  },
  {
   "cell_type": "code",
   "execution_count": 478,
   "metadata": {},
   "outputs": [],
   "source": [
    "chebbot2.loc[(chebbot2.Verb==\"say\") & (chebbot2.SentType == \"T7\"), ['SentType']] = 'T1'\n"
   ]
  },
  {
   "cell_type": "code",
   "execution_count": 479,
   "metadata": {},
   "outputs": [
    {
     "data": {
      "text/plain": [
       "Verb  SentType\n",
       "know  T1          558\n",
       "      T2          558\n",
       "      T3          558\n",
       "      T4          558\n",
       "      T5          558\n",
       "      T6          558\n",
       "say   T1          558\n",
       "      T8          558\n",
       "      T9          558\n",
       "Name: Verb, dtype: int64"
      ]
     },
     "execution_count": 479,
     "metadata": {},
     "output_type": "execute_result"
    }
   ],
   "source": [
    "chebbot2.groupby([\"Verb\",\"SentType\"])[\"Verb\"].count()"
   ]
  },
  {
   "cell_type": "code",
   "execution_count": null,
   "metadata": {},
   "outputs": [],
   "source": []
  },
  {
   "cell_type": "code",
   "execution_count": 480,
   "metadata": {},
   "outputs": [],
   "source": [
    "chebbot2.to_csv(\"chembot.csv\", header=True)"
   ]
  },
  {
   "cell_type": "code",
   "execution_count": 481,
   "metadata": {},
   "outputs": [],
   "source": [
    "tets = chebbot.loc[chebbot.ID == \"19441\"]"
   ]
  },
  {
   "cell_type": "code",
   "execution_count": 483,
   "metadata": {},
   "outputs": [
    {
     "data": {
      "text/plain": [
       "SentNumber\n",
       "1    6\n",
       "2    6\n",
       "3    6\n",
       "4    6\n",
       "5    6\n",
       "6    6\n",
       "7    6\n",
       "8    6\n",
       "9    6\n",
       "Name: SentNumber, dtype: int64"
      ]
     },
     "execution_count": 483,
     "metadata": {},
     "output_type": "execute_result"
    }
   ],
   "source": [
    "tets.groupby([\"SentNumber\"])[\"SentNumber\"].count()"
   ]
  },
  {
   "cell_type": "code",
   "execution_count": 484,
   "metadata": {},
   "outputs": [
    {
     "data": {
      "text/plain": [
       "54"
      ]
     },
     "execution_count": 484,
     "metadata": {},
     "output_type": "execute_result"
    }
   ],
   "source": [
    "9*6"
   ]
  },
  {
   "cell_type": "code",
   "execution_count": null,
   "metadata": {},
   "outputs": [],
   "source": [
    "chebbot2.groupby()"
   ]
  },
  {
   "cell_type": "code",
   "execution_count": null,
   "metadata": {},
   "outputs": [],
   "source": []
  },
  {
   "cell_type": "code",
   "execution_count": null,
   "metadata": {},
   "outputs": [],
   "source": []
  },
  {
   "cell_type": "code",
   "execution_count": 422,
   "metadata": {},
   "outputs": [
    {
     "data": {
      "text/plain": [
       "SentType\n",
       "T1    558\n",
       "T2    558\n",
       "T3    558\n",
       "T4    558\n",
       "T5    558\n",
       "T6    558\n",
       "Name: SentType, dtype: int64"
      ]
     },
     "execution_count": 422,
     "metadata": {},
     "output_type": "execute_result"
    }
   ],
   "source": [
    "know.groupby([\"SentType\"])[\"SentType\"].count()"
   ]
  },
  {
   "cell_type": "code",
   "execution_count": 436,
   "metadata": {},
   "outputs": [],
   "source": [
    "knowsay = know.loc[know.Matrix.str.contains(\"say\", na=False)]\n",
    "# sayknow = say.loc[say.Matrix.str.contains(\"know\", na=False)] # there are none of these cases"
   ]
  },
  {
   "cell_type": "code",
   "execution_count": 438,
   "metadata": {},
   "outputs": [
    {
     "data": {
      "text/plain": [
       "SentType\n",
       "T1    120\n",
       "T8    127\n",
       "T9    116\n",
       "Name: SentType, dtype: int64"
      ]
     },
     "execution_count": 438,
     "metadata": {},
     "output_type": "execute_result"
    }
   ],
   "source": [
    "knowsay.groupby([\"SentType\"])[\"SentType\"].count()"
   ]
  },
  {
   "cell_type": "code",
   "execution_count": 415,
   "metadata": {},
   "outputs": [],
   "source": [
    "say_T7_is = chebbot.loc[chebbot.SentType.isin([\"T7\"])].index.values.tolist()"
   ]
  },
  {
   "cell_type": "code",
   "execution_count": 416,
   "metadata": {},
   "outputs": [
    {
     "data": {
      "text/plain": [
       "558"
      ]
     },
     "execution_count": 416,
     "metadata": {},
     "output_type": "execute_result"
    }
   ],
   "source": []
  },
  {
   "cell_type": "code",
   "execution_count": null,
   "metadata": {},
   "outputs": [],
   "source": []
  },
  {
   "cell_type": "code",
   "execution_count": 407,
   "metadata": {},
   "outputs": [],
   "source": [
    "\n",
    "# chebbot = chebbot.SentType.replace({\"T7\":\"T1\"})"
   ]
  },
  {
   "cell_type": "code",
   "execution_count": 452,
   "metadata": {},
   "outputs": [],
   "source": [
    "chebbot.loc[chebbot.SentType==\"T9|T8\", 'Verb'] = 'say'"
   ]
  },
  {
   "cell_type": "code",
   "execution_count": null,
   "metadata": {},
   "outputs": [],
   "source": []
  },
  {
   "cell_type": "code",
   "execution_count": 417,
   "metadata": {},
   "outputs": [],
   "source": [
    "chebbot.at[say_T7_is, 'SentType'] = 'T1'"
   ]
  },
  {
   "cell_type": "code",
   "execution_count": 456,
   "metadata": {
    "scrolled": true
   },
   "outputs": [
    {
     "data": {
      "text/plain": [
       "SentType\n",
       "T1    558\n",
       "T2    558\n",
       "T3    558\n",
       "T4    558\n",
       "T5    558\n",
       "T6    558\n",
       "T7    558\n",
       "T8    558\n",
       "T9    558\n",
       "Name: SentType, dtype: int64"
      ]
     },
     "execution_count": 456,
     "metadata": {},
     "output_type": "execute_result"
    }
   ],
   "source": [
    "chebbot.groupby([\"SentType\"])[\"SentType\"].count()"
   ]
  },
  {
   "cell_type": "code",
   "execution_count": 440,
   "metadata": {},
   "outputs": [],
   "source": [
    "say_is = say.index.values.tolist()\n",
    "know_is = know.index.values.tolist()\n",
    "# these are cases where accidentally marked as 'know' but they're really 'say'\n",
    "knowsay_is = knowsay.index.values.tolist()"
   ]
  },
  {
   "cell_type": "code",
   "execution_count": 443,
   "metadata": {},
   "outputs": [
    {
     "data": {
      "text/plain": [
       "363"
      ]
     },
     "execution_count": 443,
     "metadata": {},
     "output_type": "execute_result"
    }
   ],
   "source": [
    "len(knowsay)"
   ]
  },
  {
   "cell_type": "code",
   "execution_count": null,
   "metadata": {},
   "outputs": [],
   "source": [
    "# chebbot.at[say_is, 'Verb'] = 'say'"
   ]
  },
  {
   "cell_type": "code",
   "execution_count": 444,
   "metadata": {},
   "outputs": [],
   "source": [
    "\n",
    "# chebbot.at[know_is, 'Verb'] = 'know'\n"
   ]
  },
  {
   "cell_type": "code",
   "execution_count": 446,
   "metadata": {},
   "outputs": [],
   "source": [
    "# chebbot.at[knowsay_is, 'Verb'] = 'say'"
   ]
  },
  {
   "cell_type": "code",
   "execution_count": 455,
   "metadata": {},
   "outputs": [
    {
     "data": {
      "text/plain": [
       "Verb  SentType\n",
       "say   T9          558\n",
       "Name: Verb, dtype: int64"
      ]
     },
     "execution_count": 455,
     "metadata": {},
     "output_type": "execute_result"
    }
   ],
   "source": [
    "chebbot.groupby([\"Verb\",\"SentType\"])[\"Verb\"].count()"
   ]
  },
  {
   "cell_type": "code",
   "execution_count": 424,
   "metadata": {},
   "outputs": [],
   "source": [
    "cccc = pd.read_csv(\"chembot.csv\")"
   ]
  },
  {
   "cell_type": "code",
   "execution_count": 425,
   "metadata": {},
   "outputs": [],
   "source": [
    "know = chebbot.loc[chebbot.Verb.isin([\"know\"])]"
   ]
  },
  {
   "cell_type": "code",
   "execution_count": null,
   "metadata": {},
   "outputs": [],
   "source": []
  },
  {
   "cell_type": "code",
   "execution_count": null,
   "metadata": {},
   "outputs": [],
   "source": []
  },
  {
   "cell_type": "code",
   "execution_count": null,
   "metadata": {},
   "outputs": [],
   "source": []
  },
  {
   "cell_type": "markdown",
   "metadata": {},
   "source": [
    "## Adding new columns to the Q file to look for correllation analyses"
   ]
  },
  {
   "cell_type": "code",
   "execution_count": 2,
   "metadata": {},
   "outputs": [],
   "source": [
    "bf = pd.read_csv(\"bv.csv\")\n",
    "cf = pd.read_csv(\"cv.csv\")\n",
    "# qf = pd.read_csv(\"qv.csv\")\n",
    "qf = pd.read_csv(\"q_good.csv\") # use .csv with subjs who failed controls removed"
   ]
  },
  {
   "cell_type": "code",
   "execution_count": 277,
   "metadata": {},
   "outputs": [
    {
     "data": {
      "text/plain": [
       "240"
      ]
     },
     "execution_count": 277,
     "metadata": {},
     "output_type": "execute_result"
    }
   ],
   "source": [
    "len(qf[\"ID\"].unique())"
   ]
  },
  {
   "cell_type": "code",
   "execution_count": 276,
   "metadata": {},
   "outputs": [
    {
     "data": {
      "text/plain": [
       "7308"
      ]
     },
     "execution_count": 276,
     "metadata": {},
     "output_type": "execute_result"
    }
   ],
   "source": [
    "len(cf)"
   ]
  },
  {
   "cell_type": "code",
   "execution_count": 3,
   "metadata": {},
   "outputs": [],
   "source": [
    "bf_t1 = bf.loc[bf.SentType == \"T1\"]\n",
    "cf_t1 = cf.loc[cf.SentType == \"T1\"]"
   ]
  },
  {
   "cell_type": "code",
   "execution_count": null,
   "metadata": {},
   "outputs": [],
   "source": []
  },
  {
   "cell_type": "code",
   "execution_count": 4,
   "metadata": {},
   "outputs": [],
   "source": [
    "bf_t1_log = bf_t1.loc[bf_t1.Value == \"Agree\"]\n",
    "bf_t1_prag = bf_t1.loc[bf_t1.Value == \"Disagree\"]\n",
    "\n",
    "cf_t1_loc = cf_t1.loc[cf_t1.Value == \"Agree\"]\n",
    "cf_t1_glo = cf_t1.loc[cf_t1.Value == \"Disagree\"]"
   ]
  },
  {
   "cell_type": "code",
   "execution_count": null,
   "metadata": {},
   "outputs": [],
   "source": []
  },
  {
   "cell_type": "code",
   "execution_count": null,
   "metadata": {},
   "outputs": [],
   "source": []
  },
  {
   "cell_type": "code",
   "execution_count": null,
   "metadata": {},
   "outputs": [],
   "source": []
  },
  {
   "cell_type": "code",
   "execution_count": 5,
   "metadata": {},
   "outputs": [
    {
     "name": "stderr",
     "output_type": "stream",
     "text": [
      "/opt/anaconda3/lib/python3.7/site-packages/ipykernel_launcher.py:2: SettingWithCopyWarning: \n",
      "A value is trying to be set on a copy of a slice from a DataFrame.\n",
      "Try using .loc[row_indexer,col_indexer] = value instead\n",
      "\n",
      "See the caveats in the documentation: http://pandas.pydata.org/pandas-docs/stable/user_guide/indexing.html#returning-a-view-versus-a-copy\n",
      "  \n",
      "/opt/anaconda3/lib/python3.7/site-packages/ipykernel_launcher.py:3: SettingWithCopyWarning: \n",
      "A value is trying to be set on a copy of a slice from a DataFrame.\n",
      "Try using .loc[row_indexer,col_indexer] = value instead\n",
      "\n",
      "See the caveats in the documentation: http://pandas.pydata.org/pandas-docs/stable/user_guide/indexing.html#returning-a-view-versus-a-copy\n",
      "  This is separate from the ipykernel package so we can avoid doing imports until\n",
      "/opt/anaconda3/lib/python3.7/site-packages/ipykernel_launcher.py:5: SettingWithCopyWarning: \n",
      "A value is trying to be set on a copy of a slice from a DataFrame.\n",
      "Try using .loc[row_indexer,col_indexer] = value instead\n",
      "\n",
      "See the caveats in the documentation: http://pandas.pydata.org/pandas-docs/stable/user_guide/indexing.html#returning-a-view-versus-a-copy\n",
      "  \"\"\"\n",
      "/opt/anaconda3/lib/python3.7/site-packages/ipykernel_launcher.py:6: SettingWithCopyWarning: \n",
      "A value is trying to be set on a copy of a slice from a DataFrame.\n",
      "Try using .loc[row_indexer,col_indexer] = value instead\n",
      "\n",
      "See the caveats in the documentation: http://pandas.pydata.org/pandas-docs/stable/user_guide/indexing.html#returning-a-view-versus-a-copy\n",
      "  \n"
     ]
    }
   ],
   "source": [
    "# Add the labels\n",
    "bf_t1_log[\"bn_response\"] = \"logical\"\n",
    "bf_t1_prag[\"bn_response\"] = \"pragmatic\"\n",
    "\n",
    "cf_t1_loc[\"cb_response\"] = \"local\"\n",
    "cf_t1_glo[\"cb_response\"] = \"global\""
   ]
  },
  {
   "cell_type": "code",
   "execution_count": 321,
   "metadata": {},
   "outputs": [],
   "source": [
    "# bf_t1_log"
   ]
  },
  {
   "cell_type": "code",
   "execution_count": 6,
   "metadata": {},
   "outputs": [],
   "source": [
    "bl = bf_t1_log[[\"ID\",\"bn_response\",\"Verb\",\"Token\"]]\n",
    "bp = bf_t1_prag[[\"ID\",\"bn_response\",\"Verb\",\"Token\"]]\n",
    "cl = cf_t1_loc[[\"ID\",\"cb_response\",\"Token\"]]\n",
    "cg = cf_t1_glo[[\"ID\",\"cb_response\",\"Token\"]]"
   ]
  },
  {
   "cell_type": "code",
   "execution_count": 7,
   "metadata": {},
   "outputs": [],
   "source": [
    "bn_tot = pd.concat([bl,bp])\n",
    "cb_tot = pd.concat([cl,cg])"
   ]
  },
  {
   "cell_type": "code",
   "execution_count": 8,
   "metadata": {},
   "outputs": [],
   "source": [
    "# cb_tot.groupby([\"ID\",\"Token\",\"cb_response\"])[\"ID\"].count()"
   ]
  },
  {
   "cell_type": "code",
   "execution_count": 9,
   "metadata": {},
   "outputs": [],
   "source": [
    "# You don't need to specify the 'values' but if you do, make sure to call the transformation on that column\n",
    "# bn_prop = bn_tot.pivot_table(index=['ID','Verb','bn_response'], values='Token', aggfunc=len).groupby([\"ID\",\"Verb\"]).Token.transform(lambda x: x/6).reset_index()\n",
    "\n",
    "# There are 6 T1 trials, but some subjects have those trials removed....\n",
    "# for exmaple, 18874\n",
    "bn_prop = bn_tot.pivot_table(index=['ID','bn_response'], aggfunc=len).groupby([\"ID\"]).transform(lambda x: x/6).reset_index()\n",
    "cb_prop = cb_tot.pivot_table(index=['ID','cb_response'], aggfunc=len).groupby([\"ID\"]).transform(lambda x: x/4).reset_index()"
   ]
  },
  {
   "cell_type": "code",
   "execution_count": 10,
   "metadata": {},
   "outputs": [],
   "source": [
    "# Want to convert to a wide format, where prop_logical and prop_pragmatic are columns\n",
    "bn_good = bn_prop.pivot(index=\"ID\", columns = \"bn_response\", values = \"Token\").reset_index().rename_axis(None, axis=1)\n",
    "cb_good = cb_prop.pivot(index=\"ID\", columns = \"cb_response\", values = \"Token\").reset_index().rename_axis(None, axis=1)"
   ]
  },
  {
   "cell_type": "code",
   "execution_count": 11,
   "metadata": {},
   "outputs": [],
   "source": [
    "# Make a column with 'Total' thats a combo of 'logical' and 'pragmatic'\n",
    "# first fill in all NaN values with 0\n",
    "bn_good = bn_good.fillna(0)\n",
    "cb_good = cb_good.fillna(0)\n"
   ]
  },
  {
   "cell_type": "code",
   "execution_count": 12,
   "metadata": {},
   "outputs": [],
   "source": [
    "# then add the columns together\n",
    "bn_good[\"Total_prop\"] = bn_good[\"logical\"] + bn_good[\"pragmatic\"]\n",
    "cb_good[\"Total_prop\"] = cb_good[\"global\"] + cb_good[\"local\"]"
   ]
  },
  {
   "cell_type": "code",
   "execution_count": 13,
   "metadata": {},
   "outputs": [],
   "source": [
    "# remove subjects with props < 1 \n",
    "bn_over = bn_good.loc[bn_good.Total_prop >=1]\n",
    "cb_over = cb_good.loc[cb_good.Total_prop >= 1]"
   ]
  },
  {
   "cell_type": "code",
   "execution_count": 14,
   "metadata": {},
   "outputs": [
    {
     "data": {
      "text/plain": [
       "77.77777777777779"
      ]
     },
     "execution_count": 14,
     "metadata": {},
     "output_type": "execute_result"
    }
   ],
   "source": [
    "len(bn_over)/len(bn_good)*100 #77.7777"
   ]
  },
  {
   "cell_type": "code",
   "execution_count": 15,
   "metadata": {},
   "outputs": [],
   "source": [
    "tot = pd.merge(bn_over,cb_over,on=[\"ID\"]).drop(columns=['Total_prop_y','Total_prop_x'])"
   ]
  },
  {
   "cell_type": "code",
   "execution_count": 16,
   "metadata": {},
   "outputs": [],
   "source": [
    "# merge the scores from the other study to the q study\n",
    "q_all = pd.merge(qf,tot,on=\"ID\")"
   ]
  },
  {
   "cell_type": "code",
   "execution_count": 17,
   "metadata": {},
   "outputs": [],
   "source": [
    "q_all.to_csv(\"q_withscores.csv\",header=True)"
   ]
  },
  {
   "cell_type": "code",
   "execution_count": null,
   "metadata": {},
   "outputs": [],
   "source": []
  },
  {
   "cell_type": "code",
   "execution_count": null,
   "metadata": {},
   "outputs": [],
   "source": []
  },
  {
   "cell_type": "code",
   "execution_count": null,
   "metadata": {},
   "outputs": [],
   "source": []
  },
  {
   "cell_type": "code",
   "execution_count": null,
   "metadata": {},
   "outputs": [],
   "source": []
  }
 ],
 "metadata": {
  "kernelspec": {
   "display_name": "Python 3",
   "language": "python",
   "name": "python3"
  },
  "language_info": {
   "codemirror_mode": {
    "name": "ipython",
    "version": 3
   },
   "file_extension": ".py",
   "mimetype": "text/x-python",
   "name": "python",
   "nbconvert_exporter": "python",
   "pygments_lexer": "ipython3",
   "version": "3.7.4"
  }
 },
 "nbformat": 4,
 "nbformat_minor": 2
}
