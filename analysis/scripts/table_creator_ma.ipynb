{
 "cells": [
  {
   "cell_type": "markdown",
   "metadata": {},
   "source": [
    "# Random group generator for Latin-squaring\n",
    "Table Creator for PennController Experiments"
   ]
  },
  {
   "cell_type": "code",
   "execution_count": 1,
   "metadata": {},
   "outputs": [],
   "source": [
    "import pandas as pd\n",
    "from pandas import DataFrame\n",
    "from sklearn.preprocessing import scale\n",
    "import numpy as np\n",
    "import seaborn as sns\n",
    "import matplotlib.pyplot as plt\n",
    "import matplotlib as mpl \n",
    "import os\n",
    "import csv"
   ]
  },
  {
   "cell_type": "code",
   "execution_count": 2,
   "metadata": {},
   "outputs": [],
   "source": [
    "bn_cats = pd.read_csv(\"bn_cats.csv\")\n",
    "bn_facts = pd.read_csv(\"bn_facts.csv\")\n",
    "cb_cats = pd.read_csv(\"cb_cats.csv\")\n",
    "cb_facts = pd.read_csv(\"cb_facts.csv\")\n"
   ]
  },
  {
   "cell_type": "code",
   "execution_count": 3,
   "metadata": {},
   "outputs": [
    {
     "data": {
      "text/plain": [
       "36"
      ]
     },
     "execution_count": 3,
     "metadata": {},
     "output_type": "execute_result"
    }
   ],
   "source": [
    "len(bn_cats)"
   ]
  },
  {
   "cell_type": "markdown",
   "metadata": {},
   "source": [
    "We want to substitute in the value of Token in each facts.csv with every possible Token from the respective cats.csv\n",
    "\n",
    "## Add the .csv of factors to the .csv of tokens to create the whole file with all combinations of factors and tokens/categories"
   ]
  },
  {
   "cell_type": "code",
   "execution_count": 4,
   "metadata": {},
   "outputs": [],
   "source": [
    "bn_facts[\"temp\"] = \"1\"\n",
    "bn_cats[\"temp\"] = \"1\"\n",
    "cb_facts[\"temp\"] = \"1\"\n",
    "cb_cats[\"temp\"] = \"1\""
   ]
  },
  {
   "cell_type": "code",
   "execution_count": 5,
   "metadata": {},
   "outputs": [
    {
     "data": {
      "text/html": [
       "<div>\n",
       "<style scoped>\n",
       "    .dataframe tbody tr th:only-of-type {\n",
       "        vertical-align: middle;\n",
       "    }\n",
       "\n",
       "    .dataframe tbody tr th {\n",
       "        vertical-align: top;\n",
       "    }\n",
       "\n",
       "    .dataframe thead th {\n",
       "        text-align: right;\n",
       "    }\n",
       "</style>\n",
       "<table border=\"1\" class=\"dataframe\">\n",
       "  <thead>\n",
       "    <tr style=\"text-align: right;\">\n",
       "      <th></th>\n",
       "      <th>SentNumber</th>\n",
       "      <th>Quantifier</th>\n",
       "      <th>Matrix</th>\n",
       "      <th>WhichCategory</th>\n",
       "      <th>Subject</th>\n",
       "      <th>Predicate</th>\n",
       "      <th>Group</th>\n",
       "      <th>SentType</th>\n",
       "      <th>Verb</th>\n",
       "      <th>Embedded</th>\n",
       "      <th>temp</th>\n",
       "    </tr>\n",
       "  </thead>\n",
       "  <tbody>\n",
       "    <tr>\n",
       "      <th>0</th>\n",
       "      <td>1</td>\n",
       "      <td>some</td>\n",
       "      <td>NaN</td>\n",
       "      <td>Matching</td>\n",
       "      <td>Token</td>\n",
       "      <td>Category</td>\n",
       "      <td>NaN</td>\n",
       "      <td>T1</td>\n",
       "      <td>none</td>\n",
       "      <td>0</td>\n",
       "      <td>1</td>\n",
       "    </tr>\n",
       "    <tr>\n",
       "      <th>1</th>\n",
       "      <td>2</td>\n",
       "      <td>some</td>\n",
       "      <td>Zoologists knows that</td>\n",
       "      <td>Matching</td>\n",
       "      <td>Token</td>\n",
       "      <td>Category</td>\n",
       "      <td>NaN</td>\n",
       "      <td>T1</td>\n",
       "      <td>know</td>\n",
       "      <td>1</td>\n",
       "      <td>1</td>\n",
       "    </tr>\n",
       "    <tr>\n",
       "      <th>2</th>\n",
       "      <td>3</td>\n",
       "      <td>some</td>\n",
       "      <td>Zoologists says that</td>\n",
       "      <td>Matching</td>\n",
       "      <td>Token</td>\n",
       "      <td>Category</td>\n",
       "      <td>NaN</td>\n",
       "      <td>T1</td>\n",
       "      <td>say</td>\n",
       "      <td>1</td>\n",
       "      <td>1</td>\n",
       "    </tr>\n",
       "    <tr>\n",
       "      <th>3</th>\n",
       "      <td>4</td>\n",
       "      <td>some</td>\n",
       "      <td>NaN</td>\n",
       "      <td>Mismatching</td>\n",
       "      <td>Token</td>\n",
       "      <td>Category</td>\n",
       "      <td>NaN</td>\n",
       "      <td>T3</td>\n",
       "      <td>none</td>\n",
       "      <td>0</td>\n",
       "      <td>1</td>\n",
       "    </tr>\n",
       "    <tr>\n",
       "      <th>4</th>\n",
       "      <td>5</td>\n",
       "      <td>some</td>\n",
       "      <td>Zoologists knows that</td>\n",
       "      <td>Mismatching</td>\n",
       "      <td>Token</td>\n",
       "      <td>Category</td>\n",
       "      <td>NaN</td>\n",
       "      <td>T3</td>\n",
       "      <td>know</td>\n",
       "      <td>1</td>\n",
       "      <td>1</td>\n",
       "    </tr>\n",
       "  </tbody>\n",
       "</table>\n",
       "</div>"
      ],
      "text/plain": [
       "   SentNumber Quantifier                 Matrix WhichCategory Subject  \\\n",
       "0           1       some                    NaN      Matching   Token   \n",
       "1           2       some  Zoologists knows that      Matching   Token   \n",
       "2           3       some   Zoologists says that      Matching   Token   \n",
       "3           4       some                    NaN   Mismatching   Token   \n",
       "4           5       some  Zoologists knows that   Mismatching   Token   \n",
       "\n",
       "  Predicate  Group SentType  Verb  Embedded temp  \n",
       "0  Category    NaN       T1  none         0    1  \n",
       "1  Category    NaN       T1  know         1    1  \n",
       "2  Category    NaN       T1   say         1    1  \n",
       "3  Category    NaN       T3  none         0    1  \n",
       "4  Category    NaN       T3  know         1    1  "
      ]
     },
     "execution_count": 5,
     "metadata": {},
     "output_type": "execute_result"
    }
   ],
   "source": [
    "bn_facts.head()"
   ]
  },
  {
   "cell_type": "markdown",
   "metadata": {},
   "source": [
    "Add the two .csv files together in the right way"
   ]
  },
  {
   "cell_type": "code",
   "execution_count": 6,
   "metadata": {},
   "outputs": [],
   "source": [
    "bn_table = pd.merge(bn_facts,bn_cats, on=\"temp\").drop(\"temp\", axis=1).rename(columns={\"Token_x\" :\"Token\"})\n",
    "bn_table.to_csv(\"bn_table.csv\", header=True)"
   ]
  },
  {
   "cell_type": "code",
   "execution_count": null,
   "metadata": {},
   "outputs": [],
   "source": []
  },
  {
   "cell_type": "code",
   "execution_count": 7,
   "metadata": {},
   "outputs": [],
   "source": [
    "cb_table = pd.merge(bn_facts,bn_cats, on=\"temp\").drop(\"temp\", axis=1).rename(columns={\"Token_x\" :\"Token\"})\n",
    "# cb_table.to_csv(\"cb_table.csv\", header=True)"
   ]
  },
  {
   "cell_type": "code",
   "execution_count": 8,
   "metadata": {},
   "outputs": [],
   "source": [
    "bn_table = bn_table.drop(columns=[\"Group\"])\n",
    "cb_table = cb_table.drop(columns=[\"Group\"])"
   ]
  },
  {
   "cell_type": "code",
   "execution_count": null,
   "metadata": {},
   "outputs": [],
   "source": []
  },
  {
   "cell_type": "code",
   "execution_count": null,
   "metadata": {},
   "outputs": [],
   "source": []
  },
  {
   "cell_type": "markdown",
   "metadata": {},
   "source": [
    "## Make the grouping function"
   ]
  },
  {
   "cell_type": "code",
   "execution_count": 9,
   "metadata": {},
   "outputs": [],
   "source": [
    "# import random\n",
    "\n",
    "# def chunks(l, n):\n",
    "#     \"\"\"Yield successive n-sized chunks from l.\"\"\"\n",
    "#     for i in range(0, len(l), n):\n",
    "#         yield l[i:i + n]\n",
    "\n",
    "# n = ['A', 'B', 'C', 'D', 'E', 'F', 'G', 'H', 'I', 'J', 'K']\n",
    "\n",
    "# random.shuffle(n)\n",
    "\n",
    "# list(chunks(n, 3))"
   ]
  },
  {
   "cell_type": "code",
   "execution_count": 10,
   "metadata": {},
   "outputs": [],
   "source": [
    "# size = 18        # sample size\n",
    "# replace = False  # with replacement\n",
    "# fn = lambda obj: obj.loc[np.random.choice(obj.index, size, replace),:]\n",
    "# bn_table.groupby('grouper', as_index=False).apply(fn)"
   ]
  },
  {
   "cell_type": "code",
   "execution_count": 11,
   "metadata": {},
   "outputs": [],
   "source": [
    "# this almost works but i don't want doubles of the 'token' column\n",
    "\n",
    "# t = bn_table.groupby('SentNumber').apply(lambda x :x.iloc[random.choice(range(0,len(x)))]).reset_index(drop=True)"
   ]
  },
  {
   "cell_type": "code",
   "execution_count": null,
   "metadata": {},
   "outputs": [],
   "source": []
  },
  {
   "cell_type": "code",
   "execution_count": 12,
   "metadata": {},
   "outputs": [
    {
     "data": {
      "text/plain": [
       "1296"
      ]
     },
     "execution_count": 12,
     "metadata": {},
     "output_type": "execute_result"
    }
   ],
   "source": [
    "len(bn_table)"
   ]
  },
  {
   "cell_type": "code",
   "execution_count": 13,
   "metadata": {},
   "outputs": [],
   "source": [
    "# need to first add the additional column name\n",
    "names = bn_table.columns\n",
    "g = \"Group\"\n",
    "# names.append([g])"
   ]
  },
  {
   "cell_type": "code",
   "execution_count": null,
   "metadata": {},
   "outputs": [],
   "source": []
  },
  {
   "cell_type": "code",
   "execution_count": 14,
   "metadata": {},
   "outputs": [],
   "source": [
    "# convert the df to list\n",
    "bn_list = []\n",
    "for index,rows in bn_table.iterrows():\n",
    "    my_list =[rows.Token, rows.MatchingCategory, rows.MismatchingCategory, rows.SentNumber, rows.Quantifier,rows.Matrix, \n",
    "             rows.WhichCategory, rows.Subject, rows.Predicate, rows.SentType, rows.Verb, rows.Embedded]\n",
    "    \n",
    "    bn_list.append(my_list)\n",
    "    "
   ]
  },
  {
   "cell_type": "markdown",
   "metadata": {},
   "source": [
    " Get a list of the letters which will be the different group names"
   ]
  },
  {
   "cell_type": "code",
   "execution_count": 15,
   "metadata": {},
   "outputs": [],
   "source": [
    "# Make a list of the Alphabet \n",
    "import string\n",
    "alphabets = string.ascii_uppercase\n",
    "Group = []\n",
    "for i in alphabets:\n",
    "    Group.append(i)\n",
    "Group = Group[0:18]"
   ]
  },
  {
   "cell_type": "code",
   "execution_count": 16,
   "metadata": {},
   "outputs": [
    {
     "data": {
      "text/plain": [
       "'A'"
      ]
     },
     "execution_count": 16,
     "metadata": {},
     "output_type": "execute_result"
    }
   ],
   "source": [
    "a = Group[0]\n",
    "a"
   ]
  },
  {
   "cell_type": "markdown",
   "metadata": {},
   "source": [
    "## Pseudorandomizer \n",
    "What I want to do is, for everything that's the same SentNumber (36 of each), append A-R (but i have to go through A-R twice)"
   ]
  },
  {
   "cell_type": "code",
   "execution_count": 37,
   "metadata": {
    "scrolled": true
   },
   "outputs": [],
   "source": [
    "# This code just makes one 36 long sub-list, but doesn't iterate over the letters in the right way\n",
    "new = []\n",
    "# Append the value of Group to the sub-list\n",
    "for ind, i in enumerate(bn_list):\n",
    "# for i, ind in enumerate(bn_list):\n",
    "    # Counter for bn_list\n",
    "    # Start at 1, for SentType (1 out of 36)\n",
    "    n=0 \n",
    "    # Counter for Group\n",
    "    # Start at -1, so then can increment +1 to get 'A' which is at index 0 \n",
    "    k=-1 \n",
    "    # Append the value of Group to the sub-list\n",
    "#     if i[3] == n+1: # here is where i try to increment\n",
    "#         i.append(Group[k+1]) # Append to the list the letter at the same index in Group\n",
    "#         new.append(i)\n",
    "    if i[3] == n+1: \n",
    "        i.append(Group[k+1])\n",
    "        new.append(i)\n",
    "#         print(ind)\n",
    "#     print(len(new))\n",
    "new_df = pd.DataFrame(new)"
   ]
  },
  {
   "cell_type": "code",
   "execution_count": 38,
   "metadata": {},
   "outputs": [
    {
     "data": {
      "text/plain": [
       "1296"
      ]
     },
     "execution_count": 38,
     "metadata": {},
     "output_type": "execute_result"
    }
   ],
   "source": [
    "bn_list\n",
    "len(bn_list) "
   ]
  },
  {
   "cell_type": "code",
   "execution_count": 39,
   "metadata": {},
   "outputs": [
    {
     "data": {
      "text/plain": [
       "36"
      ]
     },
     "execution_count": 39,
     "metadata": {},
     "output_type": "execute_result"
    }
   ],
   "source": [
    "len(new_df)"
   ]
  },
  {
   "cell_type": "code",
   "execution_count": 28,
   "metadata": {},
   "outputs": [],
   "source": [
    "\n",
    "# for i in bn_list:\n",
    "# # for i, ind in enumerate(bn_list):\n",
    "#     # Counter for bn_list\n",
    "#     # Start at 1, for SentType (1 out of 36)\n",
    "#     n=0 \n",
    "#     # Counter for Group\n",
    "#     # Start at -1, so then can increment +1 to get 'A' which is at index 0 \n",
    "#     k=-1 \n",
    "#     # Append the value of Group to the sub-list\n",
    "# #     if i[3] == n+1: # here is where i try to increment\n",
    "# #         i.append(Group[k+1]) # Append to the list the letter at the same index in Group\n",
    "# #         new.append(i)\n",
    "#     if i[3] == n+1: \n",
    "#         i.append(Group[k+1])\n",
    "#         new.append(i)\n",
    "# #         print(ind)\n",
    "# #     print(len(new))\n",
    "# new_df = pd.DataFrame(new)"
   ]
  },
  {
   "cell_type": "code",
   "execution_count": 29,
   "metadata": {},
   "outputs": [],
   "source": [
    "# This just makes them all the same letter"
   ]
  },
  {
   "cell_type": "code",
   "execution_count": 40,
   "metadata": {},
   "outputs": [],
   "source": [
    "# len(new_df)"
   ]
  },
  {
   "cell_type": "code",
   "execution_count": null,
   "metadata": {},
   "outputs": [],
   "source": []
  },
  {
   "cell_type": "code",
   "execution_count": 41,
   "metadata": {},
   "outputs": [],
   "source": [
    "# this appends all items in Group to l\n",
    "for l in bn_list:\n",
    "    for g in Group:\n",
    "        l.append(g)"
   ]
  },
  {
   "cell_type": "code",
   "execution_count": 48,
   "metadata": {},
   "outputs": [
    {
     "name": "stdout",
     "output_type": "stream",
     "text": [
      "R\n"
     ]
    }
   ],
   "source": [
    "print(g)"
   ]
  },
  {
   "cell_type": "markdown",
   "metadata": {},
   "source": [
    "Almost"
   ]
  },
  {
   "cell_type": "code",
   "execution_count": 42,
   "metadata": {},
   "outputs": [],
   "source": [
    "import itertools\n",
    "from itertools import cycle"
   ]
  },
  {
   "cell_type": "code",
   "execution_count": 47,
   "metadata": {},
   "outputs": [
    {
     "data": {
      "text/plain": [
       "1296"
      ]
     },
     "execution_count": 47,
     "metadata": {},
     "output_type": "execute_result"
    }
   ],
   "source": [
    "len(bn_list)"
   ]
  },
  {
   "cell_type": "code",
   "execution_count": 43,
   "metadata": {},
   "outputs": [],
   "source": [
    "# this is very close, but it's returning 72 items rather than 36\n",
    "test = list(zip(bn_list, cycle(Group)))\n",
    "test = pd.DataFrame(test)"
   ]
  },
  {
   "cell_type": "code",
   "execution_count": 46,
   "metadata": {},
   "outputs": [
    {
     "data": {
      "text/plain": [
       "72"
      ]
     },
     "execution_count": 46,
     "metadata": {},
     "output_type": "execute_result"
    }
   ],
   "source": [
    "# Why is it returning 72 items???\n",
    "len(test.loc[test[1] == \"B\"])"
   ]
  },
  {
   "cell_type": "markdown",
   "metadata": {},
   "source": [
    "Attempt!!!!! This doesn't stop running"
   ]
  },
  {
   "cell_type": "code",
   "execution_count": null,
   "metadata": {},
   "outputs": [],
   "source": [
    "new = []\n",
    "\n",
    "# Counter for bn_list\n",
    "# Start at 1, for SentType (1 out of 36)\n",
    "n=0 \n",
    "# Counter for Group\n",
    "# Start at -1, so then can increment +1 to get 'A' which is at index 0 \n",
    "k=-1 \n",
    "# Append the value of Group to the sub-list\n",
    "for i in bn_list:\n",
    "    \n",
    "    hold_me = []\n",
    "    # Append the value of Group to the sub-list\n",
    "    if i[3] == n+1: # \n",
    "        h = hold_me.append(i)\n",
    "        \n",
    "        new.append(list(zip(itertools.repeat(h),cycle(Group))))\n",
    "        \n",
    "        # add one to the counters\n",
    "        n+=1\n",
    "        k+=1\n",
    "        \n",
    "        "
   ]
  },
  {
   "cell_type": "code",
   "execution_count": null,
   "metadata": {},
   "outputs": [],
   "source": [
    "# new_df = pd.DataFrame(new)"
   ]
  },
  {
   "cell_type": "code",
   "execution_count": null,
   "metadata": {},
   "outputs": [],
   "source": []
  },
  {
   "cell_type": "code",
   "execution_count": null,
   "metadata": {},
   "outputs": [],
   "source": []
  },
  {
   "cell_type": "code",
   "execution_count": null,
   "metadata": {},
   "outputs": [],
   "source": []
  }
 ],
 "metadata": {
  "kernelspec": {
   "display_name": "Python 3",
   "language": "python",
   "name": "python3"
  },
  "language_info": {
   "codemirror_mode": {
    "name": "ipython",
    "version": 3
   },
   "file_extension": ".py",
   "mimetype": "text/x-python",
   "name": "python",
   "nbconvert_exporter": "python",
   "pygments_lexer": "ipython3",
   "version": "3.7.4"
  }
 },
 "nbformat": 4,
 "nbformat_minor": 2
}
